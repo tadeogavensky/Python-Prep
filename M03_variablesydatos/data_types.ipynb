{
 "cells": [
  {
   "cell_type": "code",
   "execution_count": 5,
   "metadata": {},
   "outputs": [
    {
     "name": "stdout",
     "output_type": "stream",
     "text": [
      "Tadeo Gavensky\n",
      "7\n"
     ]
    }
   ],
   "source": [
    "first_name = \"Tadeo\"\n",
    "last_name = \"Gavensky\"\n",
    "print(first_name + \" \" + last_name)\n"
   ]
  },
  {
   "cell_type": "code",
   "execution_count": 14,
   "metadata": {},
   "outputs": [
    {
     "name": "stdout",
     "output_type": "stream",
     "text": [
      "7\n",
      "10\n",
      "3\n",
      "2.5\n",
      "1\n",
      "25\n",
      "3\n"
     ]
    },
    {
     "ename": "ZeroDivisionError",
     "evalue": "division by zero",
     "output_type": "error",
     "traceback": [
      "\u001b[1;31m---------------------------------------------------------------------------\u001b[0m",
      "\u001b[1;31mZeroDivisionError\u001b[0m                         Traceback (most recent call last)",
      "\u001b[1;32mc:\\Users\\Windows\\Desktop\\SoyHenry\\Python-Prep\\M03_variablesydatos\\data_types.ipynb Celda 2\u001b[0m line \u001b[0;36m1\n\u001b[0;32m     <a href='vscode-notebook-cell:/c%3A/Users/Windows/Desktop/SoyHenry/Python-Prep/M03_variablesydatos/data_types.ipynb#W1sZmlsZQ%3D%3D?line=11'>12</a>\u001b[0m y\u001b[39m=\u001b[39m\u001b[39m3\u001b[39m\n\u001b[0;32m     <a href='vscode-notebook-cell:/c%3A/Users/Windows/Desktop/SoyHenry/Python-Prep/M03_variablesydatos/data_types.ipynb#W1sZmlsZQ%3D%3D?line=13'>14</a>\u001b[0m \u001b[39mprint\u001b[39m(x\u001b[39m/\u001b[39m\u001b[39m/\u001b[39m\u001b[39m3\u001b[39m) \u001b[39m#Rounded division\u001b[39;00m\n\u001b[1;32m---> <a href='vscode-notebook-cell:/c%3A/Users/Windows/Desktop/SoyHenry/Python-Prep/M03_variablesydatos/data_types.ipynb#W1sZmlsZQ%3D%3D?line=14'>15</a>\u001b[0m \u001b[39mprint\u001b[39m(x\u001b[39m/\u001b[39;49m\u001b[39m0\u001b[39;49m) \u001b[39m#Division by zero ERROR\u001b[39;00m\n",
      "\u001b[1;31mZeroDivisionError\u001b[0m: division by zero"
     ]
    }
   ],
   "source": [
    "x = 5\n",
    "y = 2\n",
    "\n",
    "print(x+y) #Sum\n",
    "print(x*y) #Multiply\n",
    "print(x-y) #Sub\n",
    "print(x/y) #Divide\n",
    "print(x%y) #Module\n",
    "print(x**y) #Exponential\n",
    "\n",
    "x=10\n",
    "y=3\n",
    "\n",
    "print(x//y) #Rounded division\n",
    "print(x/0) #Division by zero ERROR\n",
    "\n",
    "\n",
    "\n"
   ]
  },
  {
   "cell_type": "code",
   "execution_count": 21,
   "metadata": {},
   "outputs": [
    {
     "name": "stdout",
     "output_type": "stream",
     "text": [
      "True\n"
     ]
    }
   ],
   "source": [
    "#Related operations\n",
    "\n",
    "x=1\n",
    "y=2\n",
    "\n",
    "#Equal\n",
    "print(x==y) #Print false\n",
    "\n",
    "#Distinct\n",
    "print(x!=y) #Print true\n",
    "\n",
    "#Higher\n",
    "print(x>y) #Print false\n",
    "\n",
    "#Lower\n",
    "print(x<y) #Print true\n",
    "\n",
    "#Higher equal\n",
    "print(y>=2) #Print true\n",
    "\n",
    "#Lower equal\n",
    "print(5<=4) #Print false\n",
    "\n",
    "\n",
    "print(4!=\"4\")"
   ]
  },
  {
   "cell_type": "code",
   "execution_count": 24,
   "metadata": {},
   "outputs": [
    {
     "name": "stdout",
     "output_type": "stream",
     "text": [
      "20\n"
     ]
    }
   ],
   "source": [
    "x=5\n",
    "y=24\n",
    "\n",
    "x = 5 + x\n",
    "print(x+x)"
   ]
  },
  {
   "cell_type": "code",
   "execution_count": 27,
   "metadata": {},
   "outputs": [
    {
     "data": {
      "text/plain": [
       "'Hola Henry'"
      ]
     },
     "execution_count": 27,
     "metadata": {},
     "output_type": "execute_result"
    }
   ],
   "source": [
    "\"Hola \" + \"Henry\""
   ]
  },
  {
   "cell_type": "code",
   "execution_count": 36,
   "metadata": {},
   "outputs": [
    {
     "name": "stdout",
     "output_type": "stream",
     "text": [
      "False\n",
      "True\n",
      "False\n"
     ]
    }
   ],
   "source": [
    "#AND\n",
    "print(True and True) #True\n",
    "print(True and False) #False\n",
    "print(False and False) #False\n",
    "print(False and True) #False\n",
    "\n",
    "#OR\n",
    "print(True or True) #True\n",
    "print(True or False) #True\n",
    "print(False or False) #False\n",
    "print(False or True) #True\n",
    "\n",
    "#NOT\n",
    "print(not True) #False\n",
    "print(not False) #True\n",
    "\n",
    "#Equal exclusive\n",
    "print(True^True) #False\n",
    "print(True^False) #True\n",
    "print(False^False) #False\n",
    "\n",
    "\n",
    "\n",
    "\n"
   ]
  },
  {
   "cell_type": "code",
   "execution_count": 13,
   "metadata": {},
   "outputs": [
    {
     "name": "stdout",
     "output_type": "stream",
     "text": [
      "True\n",
      "False\n"
     ]
    }
   ],
   "source": [
    "price = 12.4\n",
    "\"\"\"Has price\"\"\"\n",
    "\"\"\"True\"\"\"\n",
    "print(bool(price)) \n",
    "\n",
    "\n",
    "price = 0\n",
    "\"\"\"Doesnt have price\"\"\"\n",
    "\"\"\"False\"\"\"\n",
    "print(bool(price)) "
   ]
  },
  {
   "cell_type": "code",
   "execution_count": 7,
   "metadata": {},
   "outputs": [
    {
     "name": "stdout",
     "output_type": "stream",
     "text": [
      "<class 'bool'>\n"
     ]
    }
   ],
   "source": [
    "isStudyingPython = True\n",
    "\n",
    "print(type(isStudyingPython))"
   ]
  },
  {
   "cell_type": "code",
   "execution_count": 48,
   "metadata": {},
   "outputs": [
    {
     "name": "stdout",
     "output_type": "stream",
     "text": [
      "Tadeo has 21\n",
      "<class 'float'>\n",
      "True\n"
     ]
    }
   ],
   "source": [
    "name = \"Tadeo\"\n",
    "age = 21\n",
    "num = \"10.42\"\n",
    "x = float(str(age) + str(num))\n",
    "print(name + \" has \" + str(age) )\n",
    "print(type(x))\n",
    "\n",
    "y = bool(name)\n",
    "print(y)"
   ]
  }
 ],
 "metadata": {
  "kernelspec": {
   "display_name": "Python 3",
   "language": "python",
   "name": "python3"
  },
  "language_info": {
   "codemirror_mode": {
    "name": "ipython",
    "version": 3
   },
   "file_extension": ".py",
   "mimetype": "text/x-python",
   "name": "python",
   "nbconvert_exporter": "python",
   "pygments_lexer": "ipython3",
   "version": "3.11.5"
  },
  "orig_nbformat": 4
 },
 "nbformat": 4,
 "nbformat_minor": 2
}
