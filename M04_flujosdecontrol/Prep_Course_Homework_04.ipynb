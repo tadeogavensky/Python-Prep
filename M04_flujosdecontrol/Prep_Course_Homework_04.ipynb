{
 "cells": [
  {
   "attachments": {},
   "cell_type": "markdown",
   "metadata": {},
   "source": [
    "## Flujos de Control"
   ]
  },
  {
   "attachments": {},
   "cell_type": "markdown",
   "metadata": {},
   "source": [
    "1) Crear una variable que contenga un elemento del conjunto de números enteros y luego imprimir por pantalla si es mayor o menor a cero"
   ]
  },
  {
   "cell_type": "code",
   "execution_count": 3,
   "metadata": {},
   "outputs": [
    {
     "name": "stdout",
     "output_type": "stream",
     "text": [
      "-1 es menor a 0\n"
     ]
    }
   ],
   "source": [
    "num = -1\n",
    "\n",
    "if (num>0):\n",
    "    print(str(num) + \" es mayor a 0\")\n",
    "else:\n",
    "    print(str(num) + \" es menor a 0\")\n",
    "    "
   ]
  },
  {
   "attachments": {},
   "cell_type": "markdown",
   "metadata": {},
   "source": [
    "2) Crear dos variables y un condicional que informe si son del mismo tipo de dato"
   ]
  },
  {
   "cell_type": "code",
   "execution_count": 15,
   "metadata": {},
   "outputs": [
    {
     "name": "stdout",
     "output_type": "stream",
     "text": [
      "Son del mismo tipo de dato: <class 'int'>\n"
     ]
    }
   ],
   "source": [
    "a = 41\n",
    "b = \"25\"\n",
    "\n",
    "if(type(a)==type(int(b))):\n",
    "    print(\"Son del mismo tipo de dato: \" + str(type(a)) )\n",
    "else:\n",
    "    print(\"No son del mismo tipo de dato\")\n",
    "    "
   ]
  },
  {
   "attachments": {},
   "cell_type": "markdown",
   "metadata": {},
   "source": [
    "3) Para los valores enteros del 1 al 20, imprimir por pantalla si es par o impar"
   ]
  },
  {
   "cell_type": "code",
   "execution_count": 25,
   "metadata": {},
   "outputs": [
    {
     "name": "stdout",
     "output_type": "stream",
     "text": [
      "El numero 20 es par\n",
      "El numero 19 es impar\n",
      "El numero 18 es par\n",
      "El numero 17 es impar\n",
      "El numero 16 es par\n",
      "El numero 15 es impar\n",
      "El numero 14 es par\n",
      "El numero 13 es impar\n",
      "El numero 12 es par\n",
      "El numero 11 es impar\n",
      "El numero 10 es par\n",
      "El numero 9 es impar\n",
      "El numero 8 es par\n",
      "El numero 7 es impar\n",
      "El numero 6 es par\n",
      "El numero 5 es impar\n",
      "El numero 4 es par\n",
      "El numero 3 es impar\n",
      "El numero 2 es par\n",
      "El numero 1 es impar\n"
     ]
    }
   ],
   "source": [
    "a=20\n",
    "\n",
    "while (a>=1):\n",
    "    if(a%2==0):\n",
    "        print(\"El numero \" +str(a)+ \" es par\")\n",
    "    else:\n",
    "        print(\"El numero \" +str(a)+ \" es impar\")\n",
    "\n",
    "    a -=1\n",
    "        "
   ]
  },
  {
   "attachments": {},
   "cell_type": "markdown",
   "metadata": {},
   "source": [
    "4) En un ciclo for mostrar para los valores entre 0 y 5 el resultado de elevarlo a la potencia igual a 3"
   ]
  },
  {
   "cell_type": "code",
   "execution_count": 30,
   "metadata": {},
   "outputs": [
    {
     "name": "stdout",
     "output_type": "stream",
     "text": [
      "El valor de la potencia de 0 al cubo es 0\n",
      "El valor de la potencia de 1 al cubo es 1\n",
      "El valor de la potencia de 2 al cubo es 8\n",
      "El valor de la potencia de 3 al cubo es 27\n",
      "El valor de la potencia de 4 al cubo es 64\n",
      "El valor de la potencia de 5 al cubo es 125\n"
     ]
    }
   ],
   "source": [
    "for i in range (0,6):\n",
    "    print(\"El valor de la potencia de \" + str(i) + \" al cubo es \" +  str(i**3))"
   ]
  },
  {
   "attachments": {},
   "cell_type": "markdown",
   "metadata": {},
   "source": [
    "5) Crear una variable que contenga un número entero y realizar un ciclo for la misma cantidad de ciclos"
   ]
  },
  {
   "cell_type": "code",
   "execution_count": 34,
   "metadata": {},
   "outputs": [
    {
     "name": "stdout",
     "output_type": "stream",
     "text": [
      "Ciclo 0\n",
      "Ciclo 1\n",
      "Ciclo 2\n",
      "Ciclo 3\n",
      "Ciclo 4\n"
     ]
    }
   ],
   "source": [
    "num = 5\n",
    "\n",
    "for i in range(0,num):\n",
    "    print(\"Ciclo \" + str(i))"
   ]
  },
  {
   "attachments": {},
   "cell_type": "markdown",
   "metadata": {},
   "source": [
    "6) Utilizar un ciclo while para realizar el factorial de un número guardado en una variable, sólo si la variable contiene un número entero mayor a 0"
   ]
  },
  {
   "cell_type": "code",
   "execution_count": 40,
   "metadata": {},
   "outputs": [
    {
     "name": "stdout",
     "output_type": "stream",
     "text": [
      "El factorial es 479001600\n"
     ]
    }
   ],
   "source": [
    "a = 12\n",
    "if (type(a) == int):\n",
    "    if (a > 0):\n",
    "        factorial = a\n",
    "        while (a > 2):\n",
    "            a = a - 1\n",
    "            factorial = factorial * a\n",
    "        print('El factorial es', factorial)\n",
    "    else:\n",
    "        print('La variable no es mayor a cero')\n",
    "else:\n",
    "    print('La variable no es un entero')"
   ]
  },
  {
   "attachments": {},
   "cell_type": "markdown",
   "metadata": {},
   "source": [
    "7) Crear un ciclo for dentro de un ciclo while"
   ]
  },
  {
   "cell_type": "code",
   "execution_count": 49,
   "metadata": {},
   "outputs": [
    {
     "name": "stdout",
     "output_type": "stream",
     "text": [
      "Ciclo while nro 1\n",
      "Ciclo for nro 0\n",
      "Ciclo while nro 2\n",
      "Ciclo for nro 0\n",
      "Ciclo while nro 2\n",
      "Ciclo for nro 1\n",
      "Ciclo while nro 3\n",
      "Ciclo for nro 0\n",
      "Ciclo while nro 3\n",
      "Ciclo for nro 1\n",
      "Ciclo while nro 3\n",
      "Ciclo for nro 2\n",
      "Ciclo while nro 4\n",
      "Ciclo for nro 0\n",
      "Ciclo while nro 4\n",
      "Ciclo for nro 1\n",
      "Ciclo while nro 4\n",
      "Ciclo for nro 2\n",
      "Ciclo while nro 4\n",
      "Ciclo for nro 3\n",
      "Ciclo while nro 5\n",
      "Ciclo for nro 0\n",
      "Ciclo while nro 5\n",
      "Ciclo for nro 1\n",
      "Ciclo while nro 5\n",
      "Ciclo for nro 2\n",
      "Ciclo while nro 5\n",
      "Ciclo for nro 3\n",
      "Ciclo while nro 5\n",
      "Ciclo for nro 4\n",
      "Ciclo while nro 6\n",
      "Ciclo for nro 0\n",
      "Ciclo while nro 6\n",
      "Ciclo for nro 1\n",
      "Ciclo while nro 6\n",
      "Ciclo for nro 2\n",
      "Ciclo while nro 6\n",
      "Ciclo for nro 3\n",
      "Ciclo while nro 6\n",
      "Ciclo for nro 4\n",
      "Ciclo while nro 6\n",
      "Ciclo for nro 5\n",
      "Ciclo while nro 7\n",
      "Ciclo for nro 0\n",
      "Ciclo while nro 7\n",
      "Ciclo for nro 1\n",
      "Ciclo while nro 7\n",
      "Ciclo for nro 2\n",
      "Ciclo while nro 7\n",
      "Ciclo for nro 3\n",
      "Ciclo while nro 7\n",
      "Ciclo for nro 4\n",
      "Ciclo while nro 7\n",
      "Ciclo for nro 5\n",
      "Ciclo while nro 7\n",
      "Ciclo for nro 6\n",
      "Ciclo while nro 8\n",
      "Ciclo for nro 0\n",
      "Ciclo while nro 8\n",
      "Ciclo for nro 1\n",
      "Ciclo while nro 8\n",
      "Ciclo for nro 2\n",
      "Ciclo while nro 8\n",
      "Ciclo for nro 3\n",
      "Ciclo while nro 8\n",
      "Ciclo for nro 4\n",
      "Ciclo while nro 8\n",
      "Ciclo for nro 5\n",
      "Ciclo while nro 8\n",
      "Ciclo for nro 6\n",
      "Ciclo while nro 8\n",
      "Ciclo for nro 7\n",
      "Ciclo while nro 9\n",
      "Ciclo for nro 0\n",
      "Ciclo while nro 9\n",
      "Ciclo for nro 1\n",
      "Ciclo while nro 9\n",
      "Ciclo for nro 2\n",
      "Ciclo while nro 9\n",
      "Ciclo for nro 3\n",
      "Ciclo while nro 9\n",
      "Ciclo for nro 4\n",
      "Ciclo while nro 9\n",
      "Ciclo for nro 5\n",
      "Ciclo while nro 9\n",
      "Ciclo for nro 6\n",
      "Ciclo while nro 9\n",
      "Ciclo for nro 7\n",
      "Ciclo while nro 9\n",
      "Ciclo for nro 8\n",
      "Ciclo while nro 10\n",
      "Ciclo for nro 0\n",
      "Ciclo while nro 10\n",
      "Ciclo for nro 1\n",
      "Ciclo while nro 10\n",
      "Ciclo for nro 2\n",
      "Ciclo while nro 10\n",
      "Ciclo for nro 3\n",
      "Ciclo while nro 10\n",
      "Ciclo for nro 4\n",
      "Ciclo while nro 10\n",
      "Ciclo for nro 5\n",
      "Ciclo while nro 10\n",
      "Ciclo for nro 6\n",
      "Ciclo while nro 10\n",
      "Ciclo for nro 7\n",
      "Ciclo while nro 10\n",
      "Ciclo for nro 8\n",
      "Ciclo while nro 10\n",
      "Ciclo for nro 9\n",
      "Ciclo while nro 11\n",
      "Ciclo for nro 0\n",
      "Ciclo while nro 11\n",
      "Ciclo for nro 1\n",
      "Ciclo while nro 11\n",
      "Ciclo for nro 2\n",
      "Ciclo while nro 11\n",
      "Ciclo for nro 3\n",
      "Ciclo while nro 11\n",
      "Ciclo for nro 4\n",
      "Ciclo while nro 11\n",
      "Ciclo for nro 5\n",
      "Ciclo while nro 11\n",
      "Ciclo for nro 6\n",
      "Ciclo while nro 11\n",
      "Ciclo for nro 7\n",
      "Ciclo while nro 11\n",
      "Ciclo for nro 8\n",
      "Ciclo while nro 11\n",
      "Ciclo for nro 9\n",
      "Ciclo while nro 11\n",
      "Ciclo for nro 10\n",
      "Ciclo while nro 12\n",
      "Ciclo for nro 0\n",
      "Ciclo while nro 12\n",
      "Ciclo for nro 1\n",
      "Ciclo while nro 12\n",
      "Ciclo for nro 2\n",
      "Ciclo while nro 12\n",
      "Ciclo for nro 3\n",
      "Ciclo while nro 12\n",
      "Ciclo for nro 4\n",
      "Ciclo while nro 12\n",
      "Ciclo for nro 5\n",
      "Ciclo while nro 12\n",
      "Ciclo for nro 6\n",
      "Ciclo while nro 12\n",
      "Ciclo for nro 7\n",
      "Ciclo while nro 12\n",
      "Ciclo for nro 8\n",
      "Ciclo while nro 12\n",
      "Ciclo for nro 9\n",
      "Ciclo while nro 12\n",
      "Ciclo for nro 10\n",
      "Ciclo while nro 12\n",
      "Ciclo for nro 11\n",
      "Ciclo while nro 13\n",
      "Ciclo for nro 0\n",
      "Ciclo while nro 13\n",
      "Ciclo for nro 1\n",
      "Ciclo while nro 13\n",
      "Ciclo for nro 2\n",
      "Ciclo while nro 13\n",
      "Ciclo for nro 3\n",
      "Ciclo while nro 13\n",
      "Ciclo for nro 4\n",
      "Ciclo while nro 13\n",
      "Ciclo for nro 5\n",
      "Ciclo while nro 13\n",
      "Ciclo for nro 6\n",
      "Ciclo while nro 13\n",
      "Ciclo for nro 7\n",
      "Ciclo while nro 13\n",
      "Ciclo for nro 8\n",
      "Ciclo while nro 13\n",
      "Ciclo for nro 9\n",
      "Ciclo while nro 13\n",
      "Ciclo for nro 10\n",
      "Ciclo while nro 13\n",
      "Ciclo for nro 11\n",
      "Ciclo while nro 13\n",
      "Ciclo for nro 12\n",
      "Ciclo while nro 14\n",
      "Ciclo for nro 0\n",
      "Ciclo while nro 14\n",
      "Ciclo for nro 1\n",
      "Ciclo while nro 14\n",
      "Ciclo for nro 2\n",
      "Ciclo while nro 14\n",
      "Ciclo for nro 3\n",
      "Ciclo while nro 14\n",
      "Ciclo for nro 4\n",
      "Ciclo while nro 14\n",
      "Ciclo for nro 5\n",
      "Ciclo while nro 14\n",
      "Ciclo for nro 6\n",
      "Ciclo while nro 14\n",
      "Ciclo for nro 7\n",
      "Ciclo while nro 14\n",
      "Ciclo for nro 8\n",
      "Ciclo while nro 14\n",
      "Ciclo for nro 9\n",
      "Ciclo while nro 14\n",
      "Ciclo for nro 10\n",
      "Ciclo while nro 14\n",
      "Ciclo for nro 11\n",
      "Ciclo while nro 14\n",
      "Ciclo for nro 12\n",
      "Ciclo while nro 14\n",
      "Ciclo for nro 13\n",
      "Ciclo while nro 15\n",
      "Ciclo for nro 0\n",
      "Ciclo while nro 15\n",
      "Ciclo for nro 1\n",
      "Ciclo while nro 15\n",
      "Ciclo for nro 2\n",
      "Ciclo while nro 15\n",
      "Ciclo for nro 3\n",
      "Ciclo while nro 15\n",
      "Ciclo for nro 4\n",
      "Ciclo while nro 15\n",
      "Ciclo for nro 5\n",
      "Ciclo while nro 15\n",
      "Ciclo for nro 6\n",
      "Ciclo while nro 15\n",
      "Ciclo for nro 7\n",
      "Ciclo while nro 15\n",
      "Ciclo for nro 8\n",
      "Ciclo while nro 15\n",
      "Ciclo for nro 9\n",
      "Ciclo while nro 15\n",
      "Ciclo for nro 10\n",
      "Ciclo while nro 15\n",
      "Ciclo for nro 11\n",
      "Ciclo while nro 15\n",
      "Ciclo for nro 12\n",
      "Ciclo while nro 15\n",
      "Ciclo for nro 13\n",
      "Ciclo while nro 15\n",
      "Ciclo for nro 14\n",
      "Ciclo while nro 16\n",
      "Ciclo for nro 0\n",
      "Ciclo while nro 16\n",
      "Ciclo for nro 1\n",
      "Ciclo while nro 16\n",
      "Ciclo for nro 2\n",
      "Ciclo while nro 16\n",
      "Ciclo for nro 3\n",
      "Ciclo while nro 16\n",
      "Ciclo for nro 4\n",
      "Ciclo while nro 16\n",
      "Ciclo for nro 5\n",
      "Ciclo while nro 16\n",
      "Ciclo for nro 6\n",
      "Ciclo while nro 16\n",
      "Ciclo for nro 7\n",
      "Ciclo while nro 16\n",
      "Ciclo for nro 8\n",
      "Ciclo while nro 16\n",
      "Ciclo for nro 9\n",
      "Ciclo while nro 16\n",
      "Ciclo for nro 10\n",
      "Ciclo while nro 16\n",
      "Ciclo for nro 11\n",
      "Ciclo while nro 16\n",
      "Ciclo for nro 12\n",
      "Ciclo while nro 16\n",
      "Ciclo for nro 13\n",
      "Ciclo while nro 16\n",
      "Ciclo for nro 14\n",
      "Ciclo while nro 16\n",
      "Ciclo for nro 15\n",
      "Ciclo while nro 17\n",
      "Ciclo for nro 0\n",
      "Ciclo while nro 17\n",
      "Ciclo for nro 1\n",
      "Ciclo while nro 17\n",
      "Ciclo for nro 2\n",
      "Ciclo while nro 17\n",
      "Ciclo for nro 3\n",
      "Ciclo while nro 17\n",
      "Ciclo for nro 4\n",
      "Ciclo while nro 17\n",
      "Ciclo for nro 5\n",
      "Ciclo while nro 17\n",
      "Ciclo for nro 6\n",
      "Ciclo while nro 17\n",
      "Ciclo for nro 7\n",
      "Ciclo while nro 17\n",
      "Ciclo for nro 8\n",
      "Ciclo while nro 17\n",
      "Ciclo for nro 9\n",
      "Ciclo while nro 17\n",
      "Ciclo for nro 10\n",
      "Ciclo while nro 17\n",
      "Ciclo for nro 11\n",
      "Ciclo while nro 17\n",
      "Ciclo for nro 12\n",
      "Ciclo while nro 17\n",
      "Ciclo for nro 13\n",
      "Ciclo while nro 17\n",
      "Ciclo for nro 14\n",
      "Ciclo while nro 17\n",
      "Ciclo for nro 15\n",
      "Ciclo while nro 17\n",
      "Ciclo for nro 16\n",
      "Ciclo while nro 18\n",
      "Ciclo for nro 0\n",
      "Ciclo while nro 18\n",
      "Ciclo for nro 1\n",
      "Ciclo while nro 18\n",
      "Ciclo for nro 2\n",
      "Ciclo while nro 18\n",
      "Ciclo for nro 3\n",
      "Ciclo while nro 18\n",
      "Ciclo for nro 4\n",
      "Ciclo while nro 18\n",
      "Ciclo for nro 5\n",
      "Ciclo while nro 18\n",
      "Ciclo for nro 6\n",
      "Ciclo while nro 18\n",
      "Ciclo for nro 7\n",
      "Ciclo while nro 18\n",
      "Ciclo for nro 8\n",
      "Ciclo while nro 18\n",
      "Ciclo for nro 9\n",
      "Ciclo while nro 18\n",
      "Ciclo for nro 10\n",
      "Ciclo while nro 18\n",
      "Ciclo for nro 11\n",
      "Ciclo while nro 18\n",
      "Ciclo for nro 12\n",
      "Ciclo while nro 18\n",
      "Ciclo for nro 13\n",
      "Ciclo while nro 18\n",
      "Ciclo for nro 14\n",
      "Ciclo while nro 18\n",
      "Ciclo for nro 15\n",
      "Ciclo while nro 18\n",
      "Ciclo for nro 16\n",
      "Ciclo while nro 18\n",
      "Ciclo for nro 17\n",
      "Ciclo while nro 19\n",
      "Ciclo for nro 0\n",
      "Ciclo while nro 19\n",
      "Ciclo for nro 1\n",
      "Ciclo while nro 19\n",
      "Ciclo for nro 2\n",
      "Ciclo while nro 19\n",
      "Ciclo for nro 3\n",
      "Ciclo while nro 19\n",
      "Ciclo for nro 4\n",
      "Ciclo while nro 19\n",
      "Ciclo for nro 5\n",
      "Ciclo while nro 19\n",
      "Ciclo for nro 6\n",
      "Ciclo while nro 19\n",
      "Ciclo for nro 7\n",
      "Ciclo while nro 19\n",
      "Ciclo for nro 8\n",
      "Ciclo while nro 19\n",
      "Ciclo for nro 9\n",
      "Ciclo while nro 19\n",
      "Ciclo for nro 10\n",
      "Ciclo while nro 19\n",
      "Ciclo for nro 11\n",
      "Ciclo while nro 19\n",
      "Ciclo for nro 12\n",
      "Ciclo while nro 19\n",
      "Ciclo for nro 13\n",
      "Ciclo while nro 19\n",
      "Ciclo for nro 14\n",
      "Ciclo while nro 19\n",
      "Ciclo for nro 15\n",
      "Ciclo while nro 19\n",
      "Ciclo for nro 16\n",
      "Ciclo while nro 19\n",
      "Ciclo for nro 17\n",
      "Ciclo while nro 19\n",
      "Ciclo for nro 18\n",
      "Ciclo while nro 20\n",
      "Ciclo for nro 0\n",
      "Ciclo while nro 20\n",
      "Ciclo for nro 1\n",
      "Ciclo while nro 20\n",
      "Ciclo for nro 2\n",
      "Ciclo while nro 20\n",
      "Ciclo for nro 3\n",
      "Ciclo while nro 20\n",
      "Ciclo for nro 4\n",
      "Ciclo while nro 20\n",
      "Ciclo for nro 5\n",
      "Ciclo while nro 20\n",
      "Ciclo for nro 6\n",
      "Ciclo while nro 20\n",
      "Ciclo for nro 7\n",
      "Ciclo while nro 20\n",
      "Ciclo for nro 8\n",
      "Ciclo while nro 20\n",
      "Ciclo for nro 9\n",
      "Ciclo while nro 20\n",
      "Ciclo for nro 10\n",
      "Ciclo while nro 20\n",
      "Ciclo for nro 11\n",
      "Ciclo while nro 20\n",
      "Ciclo for nro 12\n",
      "Ciclo while nro 20\n",
      "Ciclo for nro 13\n",
      "Ciclo while nro 20\n",
      "Ciclo for nro 14\n",
      "Ciclo while nro 20\n",
      "Ciclo for nro 15\n",
      "Ciclo while nro 20\n",
      "Ciclo for nro 16\n",
      "Ciclo while nro 20\n",
      "Ciclo for nro 17\n",
      "Ciclo while nro 20\n",
      "Ciclo for nro 18\n",
      "Ciclo while nro 20\n",
      "Ciclo for nro 19\n"
     ]
    }
   ],
   "source": [
    "a = 0\n",
    "while(a<20):\n",
    "    a += 1\n",
    "    for i in range (0,a):\n",
    "        print('Ciclo while nro ' + str(a))\n",
    "        print('Ciclo for nro ' + str(i))\n",
    "\n",
    "        "
   ]
  },
  {
   "attachments": {},
   "cell_type": "markdown",
   "metadata": {},
   "source": [
    "8) Crear un ciclo while dentro de un ciclo for"
   ]
  },
  {
   "cell_type": "code",
   "execution_count": 50,
   "metadata": {},
   "outputs": [
    {
     "name": "stdout",
     "output_type": "stream",
     "text": [
      "Ciclo while nro 19\n",
      "Ciclo for nro 0\n",
      "Ciclo while nro 18\n",
      "Ciclo for nro 0\n",
      "Ciclo while nro 17\n",
      "Ciclo for nro 0\n",
      "Ciclo while nro 16\n",
      "Ciclo for nro 0\n",
      "Ciclo while nro 15\n",
      "Ciclo for nro 0\n",
      "Ciclo while nro 14\n",
      "Ciclo for nro 0\n",
      "Ciclo while nro 13\n",
      "Ciclo for nro 0\n",
      "Ciclo while nro 12\n",
      "Ciclo for nro 0\n",
      "Ciclo while nro 11\n",
      "Ciclo for nro 0\n",
      "Ciclo while nro 10\n",
      "Ciclo for nro 0\n",
      "Ciclo while nro 9\n",
      "Ciclo for nro 0\n",
      "Ciclo while nro 8\n",
      "Ciclo for nro 0\n",
      "Ciclo while nro 7\n",
      "Ciclo for nro 0\n",
      "Ciclo while nro 6\n",
      "Ciclo for nro 0\n",
      "Ciclo while nro 5\n",
      "Ciclo for nro 0\n",
      "Ciclo while nro 4\n",
      "Ciclo for nro 0\n",
      "Ciclo while nro 3\n",
      "Ciclo for nro 0\n",
      "Ciclo while nro 2\n",
      "Ciclo for nro 0\n",
      "Ciclo while nro 1\n",
      "Ciclo for nro 0\n",
      "Ciclo while nro 0\n",
      "Ciclo for nro 0\n"
     ]
    }
   ],
   "source": [
    "a = 20\n",
    "\n",
    "for i in range (0,a):\n",
    "    while(a>0):\n",
    "        a-=1\n",
    "        print('Ciclo while nro ' + str(a))\n",
    "        print('Ciclo for nro ' + str(i))"
   ]
  },
  {
   "attachments": {},
   "cell_type": "markdown",
   "metadata": {},
   "source": [
    "9) Imprimir los números primos existentes entre 0 y 30"
   ]
  },
  {
   "cell_type": "code",
   "execution_count": 58,
   "metadata": {},
   "outputs": [
    {
     "name": "stdout",
     "output_type": "stream",
     "text": [
      "0\n",
      "1\n",
      "2\n",
      "3\n",
      "5\n",
      "7\n",
      "11\n",
      "13\n",
      "17\n",
      "19\n",
      "23\n",
      "29\n"
     ]
    }
   ],
   "source": [
    "tope_rango=30\n",
    "n = 0\n",
    "primo = True\n",
    "while (n < tope_rango):\n",
    "    for div in range(2, n):\n",
    "        if (n % div == 0):\n",
    "            primo = False\n",
    "    if (primo):\n",
    "        print(n)\n",
    "    else:\n",
    "        primo = True\n",
    "    n += 1\n"
   ]
  },
  {
   "attachments": {},
   "cell_type": "markdown",
   "metadata": {},
   "source": [
    "10) ¿Se puede mejorar el proceso del punto 9? Utilizar las sentencias break y/ó continue para tal fin"
   ]
  },
  {
   "cell_type": "code",
   "execution_count": 59,
   "metadata": {},
   "outputs": [
    {
     "name": "stdout",
     "output_type": "stream",
     "text": [
      "0\n",
      "1\n",
      "2\n",
      "3\n",
      "5\n",
      "7\n",
      "11\n",
      "13\n",
      "17\n",
      "19\n",
      "23\n",
      "29\n"
     ]
    }
   ],
   "source": [
    "n = 0\n",
    "primo = True\n",
    "while (n < tope_rango):\n",
    "    for div in range(2, n):\n",
    "        if (n % div == 0):\n",
    "            primo = False\n",
    "            break\n",
    "    if (primo):\n",
    "        print(n)\n",
    "    else:\n",
    "        primo = True\n",
    "    n += 1"
   ]
  },
  {
   "attachments": {},
   "cell_type": "markdown",
   "metadata": {},
   "source": [
    "11) En los puntos 9 y 10, se diseño un código que encuentra números primos y además se lo optimizó. ¿Es posible saber en qué medida se optimizó?"
   ]
  },
  {
   "cell_type": "code",
   "execution_count": null,
   "metadata": {},
   "outputs": [],
   "source": []
  },
  {
   "attachments": {},
   "cell_type": "markdown",
   "metadata": {},
   "source": [
    "12) Aplicando continue, armar un ciclo while que solo imprima los valores divisibles por 12, dentro del rango de números de 100 a 300"
   ]
  },
  {
   "cell_type": "code",
   "execution_count": 67,
   "metadata": {},
   "outputs": [
    {
     "name": "stdout",
     "output_type": "stream",
     "text": [
      "108 es divisble por 12\n",
      "120 es divisble por 12\n",
      "132 es divisble por 12\n",
      "144 es divisble por 12\n",
      "156 es divisble por 12\n",
      "168 es divisble por 12\n",
      "180 es divisble por 12\n",
      "192 es divisble por 12\n",
      "204 es divisble por 12\n",
      "216 es divisble por 12\n",
      "228 es divisble por 12\n",
      "240 es divisble por 12\n",
      "252 es divisble por 12\n",
      "264 es divisble por 12\n",
      "276 es divisble por 12\n",
      "288 es divisble por 12\n",
      "300 es divisble por 12\n"
     ]
    }
   ],
   "source": [
    "tope =300\n",
    "a=100\n",
    "while(a<=tope):\n",
    "    a+=1\n",
    "    if(a%12==0):\n",
    "        print(str(a) + \" es divisble por 12\")"
   ]
  },
  {
   "attachments": {},
   "cell_type": "markdown",
   "metadata": {},
   "source": [
    "13) Utilizar la función **input()** que permite hacer ingresos por teclado, para encontrar números primos y dar la opción al usario de buscar el siguiente"
   ]
  },
  {
   "cell_type": "code",
   "execution_count": 16,
   "metadata": {},
   "outputs": [
    {
     "name": "stdout",
     "output_type": "stream",
     "text": [
      "1\n",
      "¿Desea encontrar el siguiente número primo?\n"
     ]
    },
    {
     "ename": "TypeError",
     "evalue": "'str' object is not callable",
     "output_type": "error",
     "traceback": [
      "\u001b[1;31m---------------------------------------------------------------------------\u001b[0m",
      "\u001b[1;31mTypeError\u001b[0m                                 Traceback (most recent call last)",
      "\u001b[1;32mc:\\Users\\Windows\\Desktop\\SoyHenry\\Python-Prep\\M04_flujosdecontrol\\Prep_Course_Homework_04.ipynb Celda 27\u001b[0m line \u001b[0;36m1\n\u001b[0;32m     <a href='vscode-notebook-cell:/c%3A/Users/Windows/Desktop/SoyHenry/Python-Prep/M04_flujosdecontrol/Prep_Course_Homework_04.ipynb#X42sZmlsZQ%3D%3D?line=9'>10</a>\u001b[0m \u001b[39mprint\u001b[39m(n)\n\u001b[0;32m     <a href='vscode-notebook-cell:/c%3A/Users/Windows/Desktop/SoyHenry/Python-Prep/M04_flujosdecontrol/Prep_Course_Homework_04.ipynb#X42sZmlsZQ%3D%3D?line=10'>11</a>\u001b[0m \u001b[39mprint\u001b[39m(\u001b[39m'\u001b[39m\u001b[39m¿Desea encontrar el siguiente número primo?\u001b[39m\u001b[39m'\u001b[39m)\n\u001b[1;32m---> <a href='vscode-notebook-cell:/c%3A/Users/Windows/Desktop/SoyHenry/Python-Prep/M04_flujosdecontrol/Prep_Course_Homework_04.ipynb#X42sZmlsZQ%3D%3D?line=11'>12</a>\u001b[0m \u001b[39mif\u001b[39;00m (\u001b[39minput\u001b[39;49m() \u001b[39m!=\u001b[39m \u001b[39m'\u001b[39m\u001b[39m1\u001b[39m\u001b[39m'\u001b[39m):\n\u001b[0;32m     <a href='vscode-notebook-cell:/c%3A/Users/Windows/Desktop/SoyHenry/Python-Prep/M04_flujosdecontrol/Prep_Course_Homework_04.ipynb#X42sZmlsZQ%3D%3D?line=12'>13</a>\u001b[0m     \u001b[39mprint\u001b[39m(\u001b[39m'\u001b[39m\u001b[39mSe finaliza el proceso\u001b[39m\u001b[39m'\u001b[39m)\n\u001b[0;32m     <a href='vscode-notebook-cell:/c%3A/Users/Windows/Desktop/SoyHenry/Python-Prep/M04_flujosdecontrol/Prep_Course_Homework_04.ipynb#X42sZmlsZQ%3D%3D?line=13'>14</a>\u001b[0m     \u001b[39mbreak\u001b[39;00m\n",
      "\u001b[1;31mTypeError\u001b[0m: 'str' object is not callable"
     ]
    }
   ],
   "source": [
    "n = 1\n",
    "sigue = 1\n",
    "primo = True\n",
    "while (sigue == 1):\n",
    "    for div in range(2, n):\n",
    "        if (n % div == 0):\n",
    "            primo = False\n",
    "            break\n",
    "    if (primo):\n",
    "        print(n)\n",
    "        print('¿Desea encontrar el siguiente número primo?')\n",
    "        if (input() != '1'):\n",
    "            print('Se finaliza el proceso')\n",
    "            break\n",
    "    else:\n",
    "        primo = True\n",
    "    n += 1"
   ]
  },
  {
   "attachments": {},
   "cell_type": "markdown",
   "metadata": {},
   "source": [
    "14) Crear un ciclo while que encuentre dentro del rango de 100 a 300 el primer número divisible por 3 y además múltiplo de 6"
   ]
  },
  {
   "cell_type": "code",
   "execution_count": 12,
   "metadata": {},
   "outputs": [
    {
     "name": "stdout",
     "output_type": "stream",
     "text": [
      "El primer número divisible por 3 y múltiplo de 6 en el rango es: 102\n"
     ]
    }
   ],
   "source": [
    "tope = 300\n",
    "n = 100\n",
    "\n",
    "while(n<=tope):\n",
    "    if(n%3==0 and n%6==0):\n",
    "        print(\"El primer número divisible por 3 y múltiplo de 6 en el rango es: \" +  str(n))\n",
    "        break\n",
    "    n+=1"
   ]
  },
  {
   "cell_type": "code",
   "execution_count": null,
   "metadata": {},
   "outputs": [],
   "source": []
  }
 ],
 "metadata": {
  "interpreter": {
   "hash": "c85384e4cb51c8b72350f3a8712cc8351fdc3955e32a27f9b60c6242ab125f01"
  },
  "kernelspec": {
   "display_name": "Python 3 (ipykernel)",
   "language": "python",
   "name": "python3"
  },
  "language_info": {
   "codemirror_mode": {
    "name": "ipython",
    "version": 3
   },
   "file_extension": ".py",
   "mimetype": "text/x-python",
   "name": "python",
   "nbconvert_exporter": "python",
   "pygments_lexer": "ipython3",
   "version": "3.11.5"
  }
 },
 "nbformat": 4,
 "nbformat_minor": 4
}
