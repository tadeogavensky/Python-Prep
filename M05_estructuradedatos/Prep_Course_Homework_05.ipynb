{
 "cells": [
  {
   "attachments": {},
   "cell_type": "markdown",
   "metadata": {},
   "source": [
    "## Estructuras de Datos"
   ]
  },
  {
   "attachments": {},
   "cell_type": "markdown",
   "metadata": {},
   "source": [
    "1) Crear una lista que contenga nombres de ciudades del mundo que contenga más de 5 elementos e imprimir por pantalla"
   ]
  },
  {
   "cell_type": "code",
   "execution_count": 3,
   "metadata": {},
   "outputs": [
    {
     "name": "stdout",
     "output_type": "stream",
     "text": [
      "Berlin\n",
      "Buenos Aires\n",
      "Madrid\n",
      "Paris\n",
      "Doha\n",
      "Tokyo\n"
     ]
    }
   ],
   "source": [
    "ciudades = [\"Berlin\", \"Buenos Aires\", \"Madrid\", \"Paris\", \"Doha\", \"Tokyo\"]\n",
    "\n",
    "if(len(ciudades) >5 ):\n",
    "  for ciudad in ciudades:\n",
    "      print(ciudad)\n",
    "      \n",
    "\n"
   ]
  },
  {
   "attachments": {},
   "cell_type": "markdown",
   "metadata": {},
   "source": [
    "2) Imprimir por pantalla el segundo elemento de la lista"
   ]
  },
  {
   "cell_type": "code",
   "execution_count": 5,
   "metadata": {},
   "outputs": [
    {
     "name": "stdout",
     "output_type": "stream",
     "text": [
      "Buenos Aires\n"
     ]
    }
   ],
   "source": [
    "print(ciudades[1])"
   ]
  },
  {
   "attachments": {},
   "cell_type": "markdown",
   "metadata": {},
   "source": [
    "3) Imprimir por pantalla del segundo al cuarto elemento"
   ]
  },
  {
   "cell_type": "code",
   "execution_count": 9,
   "metadata": {},
   "outputs": [
    {
     "name": "stdout",
     "output_type": "stream",
     "text": [
      "['Buenos Aires', 'Madrid', 'Paris']\n"
     ]
    }
   ],
   "source": [
    "\n",
    "print(ciudades[1:4])"
   ]
  },
  {
   "attachments": {},
   "cell_type": "markdown",
   "metadata": {},
   "source": [
    "4) Visualizar el tipo de dato de la lista"
   ]
  },
  {
   "cell_type": "code",
   "execution_count": 10,
   "metadata": {},
   "outputs": [
    {
     "name": "stdout",
     "output_type": "stream",
     "text": [
      "<class 'list'>\n"
     ]
    }
   ],
   "source": [
    "print(type(ciudades))"
   ]
  },
  {
   "attachments": {},
   "cell_type": "markdown",
   "metadata": {},
   "source": [
    "5) Visualizar todos los elementos de la lista a partir del tercero de manera genérica, es decir, sin explicitar la posición del último elemento"
   ]
  },
  {
   "cell_type": "code",
   "execution_count": 11,
   "metadata": {},
   "outputs": [
    {
     "name": "stdout",
     "output_type": "stream",
     "text": [
      "['Madrid', 'Paris', 'Doha', 'Tokyo']\n"
     ]
    }
   ],
   "source": [
    "print(ciudades[2:])\n",
    "      "
   ]
  },
  {
   "attachments": {},
   "cell_type": "markdown",
   "metadata": {},
   "source": [
    "6) Visualizar los primeros 4 elementos de la lista"
   ]
  },
  {
   "cell_type": "code",
   "execution_count": 13,
   "metadata": {},
   "outputs": [
    {
     "name": "stdout",
     "output_type": "stream",
     "text": [
      "['Berlin', 'Buenos Aires', 'Madrid', 'Paris']\n"
     ]
    }
   ],
   "source": [
    "print(ciudades[0:4])\n",
    "      "
   ]
  },
  {
   "attachments": {},
   "cell_type": "markdown",
   "metadata": {},
   "source": [
    "7) Agregar una ciudad más a la lista que ya exista y otra que no ¿Arroja algún tipo de error?"
   ]
  },
  {
   "cell_type": "code",
   "execution_count": 15,
   "metadata": {},
   "outputs": [
    {
     "name": "stdout",
     "output_type": "stream",
     "text": [
      "['Berlin', 'Buenos Aires', 'Madrid', 'Paris', 'Doha', 'Tokyo', 'Berlin', 'New York', 'Berlin', 'New York']\n"
     ]
    }
   ],
   "source": [
    "ciudades.append(\"Berlin\")\n",
    "ciudades.append(\"New York\")\n",
    "\n",
    "print(ciudades)\n"
   ]
  },
  {
   "attachments": {},
   "cell_type": "markdown",
   "metadata": {},
   "source": [
    "8) Agregar otra ciudad, pero en la cuarta posición"
   ]
  },
  {
   "cell_type": "code",
   "execution_count": 17,
   "metadata": {},
   "outputs": [
    {
     "name": "stdout",
     "output_type": "stream",
     "text": [
      "['Berlin', 'Buenos Aires', 'Madrid', 'Miami', 'Paris', 'Doha', 'Tokyo', 'Berlin', 'New York', 'Berlin', 'New York']\n"
     ]
    }
   ],
   "source": [
    "ciudades.insert(3,\"Miami\")\n",
    "\n",
    "print(ciudades)\n"
   ]
  },
  {
   "attachments": {},
   "cell_type": "markdown",
   "metadata": {},
   "source": [
    "9) Concatenar otra lista a la ya creada"
   ]
  },
  {
   "cell_type": "code",
   "execution_count": 18,
   "metadata": {},
   "outputs": [
    {
     "name": "stdout",
     "output_type": "stream",
     "text": [
      "['Berlin', 'Buenos Aires', 'Madrid', 'Miami', 'Paris', 'Doha', 'Tokyo', 'Berlin', 'New York', 'Berlin', 'New York', 'Berlin', 'Buenos Aires', 'Madrid', 'Miami', 'Paris', 'Doha', 'Tokyo', 'Berlin', 'New York', 'Berlin', 'New York']\n"
     ]
    }
   ],
   "source": [
    "mas_ciudades =['Sydney', 'Cairo', 'Rio de Janeiro', 'Toronto', 'Amsterdam', 'Cape Town', 'Dubai', 'Bangkok', 'Seoul', 'Istanbul']\n",
    "\n",
    "print(ciudades+ciudades)"
   ]
  },
  {
   "attachments": {},
   "cell_type": "markdown",
   "metadata": {},
   "source": [
    "10) Encontrar el índice de la ciudad que en el punto 7 agregamos duplicada. ¿Se nota alguna particularidad?"
   ]
  },
  {
   "cell_type": "code",
   "execution_count": 24,
   "metadata": {},
   "outputs": [
    {
     "name": "stdout",
     "output_type": "stream",
     "text": [
      "Ciudad repetida: New York\n",
      "Ciudad repetida: Berlin\n"
     ]
    }
   ],
   "source": [
    "\n",
    "# Crear un conjunto para realizar un seguimiento de las ciudades repetidas\n",
    "ciudades_repetidas = set()\n",
    "ciudades_unicas = set()\n",
    "\n",
    "for ciudad in ciudades:\n",
    "    if ciudad in ciudades_unicas:\n",
    "        ciudades_repetidas.add(ciudad)\n",
    "    else:\n",
    "        ciudades_unicas.add(ciudad)\n",
    "\n",
    "# Imprimir las ciudades repetidas\n",
    "for ciudad in ciudades_repetidas:\n",
    "    print(\"Ciudad repetida: \" + ciudad)\n"
   ]
  },
  {
   "attachments": {},
   "cell_type": "markdown",
   "metadata": {},
   "source": [
    "11) ¿Qué pasa si se busca un elemento que no existe?"
   ]
  },
  {
   "cell_type": "code",
   "execution_count": 82,
   "metadata": {},
   "outputs": [
    {
     "ename": "ValueError",
     "evalue": "'Dublin' is not in list",
     "output_type": "error",
     "traceback": [
      "\u001b[1;31m---------------------------------------------------------------------------\u001b[0m",
      "\u001b[1;31mValueError\u001b[0m                                Traceback (most recent call last)",
      "\u001b[1;32mc:\\Users\\Windows\\Desktop\\SoyHenry\\Python-Prep\\M05_estructuradedatos\\Prep_Course_Homework_05.ipynb Celda 23\u001b[0m line \u001b[0;36m1\n\u001b[1;32m----> <a href='vscode-notebook-cell:/c%3A/Users/Windows/Desktop/SoyHenry/Python-Prep/M05_estructuradedatos/Prep_Course_Homework_05.ipynb#X31sZmlsZQ%3D%3D?line=0'>1</a>\u001b[0m \u001b[39mprint\u001b[39m(ciudades\u001b[39m.\u001b[39;49mindex(\u001b[39m\"\u001b[39;49m\u001b[39mDublin\u001b[39;49m\u001b[39m\"\u001b[39;49m))\n",
      "\u001b[1;31mValueError\u001b[0m: 'Dublin' is not in list"
     ]
    }
   ],
   "source": [
    "print(ciudades.index(\"Dublin\")) #Tira error"
   ]
  },
  {
   "attachments": {},
   "cell_type": "markdown",
   "metadata": {},
   "source": [
    "12) Eliminar un elemento de la lista"
   ]
  },
  {
   "cell_type": "code",
   "execution_count": 25,
   "metadata": {},
   "outputs": [
    {
     "name": "stdout",
     "output_type": "stream",
     "text": [
      "['Berlin', 'Buenos Aires', 'Madrid', 'Miami', 'Paris', 'Doha', 'Tokyo', 'Berlin', 'New York', 'Berlin', 'New York']\n",
      "['Berlin', 'Buenos Aires', 'Madrid', 'Miami', 'Paris', 'Doha', 'Tokyo', 'Berlin', 'New York', 'Berlin']\n"
     ]
    }
   ],
   "source": [
    "print(ciudades)\n",
    "ciudades.pop()\n",
    "print(ciudades)\n"
   ]
  },
  {
   "attachments": {},
   "cell_type": "markdown",
   "metadata": {},
   "source": [
    "13) ¿Qué pasa si el elemento a eliminar no existe?"
   ]
  },
  {
   "cell_type": "code",
   "execution_count": 29,
   "metadata": {},
   "outputs": [
    {
     "name": "stdout",
     "output_type": "stream",
     "text": [
      "Berlin\n",
      "Buenos Aires\n",
      "Madrid\n",
      "Miami\n",
      "Paris\n",
      "Doha\n",
      "Tokyo\n",
      "Berlin\n",
      "New York\n",
      "Berlin\n"
     ]
    }
   ],
   "source": [
    "for ciudad in ciudades:\n",
    "    if(ciudades.index(ciudad)==\"Berlin\"):\n",
    "        continue\n",
    "    print(ciudad)\n",
    "    "
   ]
  },
  {
   "attachments": {},
   "cell_type": "markdown",
   "metadata": {},
   "source": [
    "14) Extraer el úlimo elemento de la lista, guardarlo en una variable e imprimirlo"
   ]
  },
  {
   "cell_type": "code",
   "execution_count": 93,
   "metadata": {},
   "outputs": [
    {
     "name": "stdout",
     "output_type": "stream",
     "text": [
      "Paris\n"
     ]
    }
   ],
   "source": [
    "ultimo = ciudades[-1]\n",
    "\n",
    "print(ultimo)"
   ]
  },
  {
   "attachments": {},
   "cell_type": "markdown",
   "metadata": {},
   "source": [
    "15) Mostrar la lista multiplicada por 4"
   ]
  },
  {
   "cell_type": "code",
   "execution_count": 30,
   "metadata": {},
   "outputs": [
    {
     "name": "stdout",
     "output_type": "stream",
     "text": [
      "['Berlin', 'Buenos Aires', 'Madrid', 'Miami', 'Paris', 'Doha', 'Tokyo', 'Berlin', 'New York', 'Berlin', 'Berlin', 'Buenos Aires', 'Madrid', 'Miami', 'Paris', 'Doha', 'Tokyo', 'Berlin', 'New York', 'Berlin', 'Berlin', 'Buenos Aires', 'Madrid', 'Miami', 'Paris', 'Doha', 'Tokyo', 'Berlin', 'New York', 'Berlin', 'Berlin', 'Buenos Aires', 'Madrid', 'Miami', 'Paris', 'Doha', 'Tokyo', 'Berlin', 'New York', 'Berlin']\n"
     ]
    }
   ],
   "source": [
    "print(ciudades*4)"
   ]
  },
  {
   "attachments": {},
   "cell_type": "markdown",
   "metadata": {},
   "source": [
    "16) Crear una tupla que contenga los números enteros del 1 al 20"
   ]
  },
  {
   "cell_type": "code",
   "execution_count": 62,
   "metadata": {},
   "outputs": [
    {
     "name": "stdout",
     "output_type": "stream",
     "text": [
      "[1, 2, 3, 4, 5, 6, 7, 8, 9, 10, 11, 12, 13, 14, 15, 16, 17, 18, 19, 20]\n"
     ]
    }
   ],
   "source": [
    "lista = []\n",
    "for i in range(1,21):\n",
    "  lista.append(i)\n",
    "  \n",
    "\n",
    "tupla=tuple(lista)\n",
    "\n"
   ]
  },
  {
   "attachments": {},
   "cell_type": "markdown",
   "metadata": {},
   "source": [
    "17) Imprimir desde el índice 10 al 15 de la tupla"
   ]
  },
  {
   "cell_type": "code",
   "execution_count": 43,
   "metadata": {},
   "outputs": [
    {
     "name": "stdout",
     "output_type": "stream",
     "text": [
      "(11, 12, 13, 14, 15, 16)\n"
     ]
    }
   ],
   "source": [
    "print(tupla[10:16])\n",
    "    "
   ]
  },
  {
   "attachments": {},
   "cell_type": "markdown",
   "metadata": {},
   "source": [
    "18) Evaluar si los números 20 y 30 están dentro de la tupla"
   ]
  },
  {
   "cell_type": "code",
   "execution_count": 46,
   "metadata": {},
   "outputs": [
    {
     "name": "stdout",
     "output_type": "stream",
     "text": [
      "El numero 20 se encuentra en la tupla\n",
      "El numero 30 NO se encuentra en la tupla\n"
     ]
    }
   ],
   "source": [
    "tupla\n",
    "\n",
    "if(20 in tupla):\n",
    "    print(\"El numero 20 se encuentra en la tupla\")\n",
    "else:\n",
    "    print(\"El numero 20 NO se encuentra en la tupla\")\n",
    "if(30 in tupla):\n",
    "    print(\"El numero 30 se encuentra en la tupla\")\n",
    "else:\n",
    "    print(\"El numero 30 NO se encuentra en la tupla\")\n",
    "    "
   ]
  },
  {
   "attachments": {},
   "cell_type": "markdown",
   "metadata": {},
   "source": [
    "19) Con la lista creada en el punto 1, validar la existencia del elemento 'París' y si no existe, agregarlo. Utilizar una variable e informar lo sucedido."
   ]
  },
  {
   "cell_type": "code",
   "execution_count": 49,
   "metadata": {},
   "outputs": [
    {
     "name": "stdout",
     "output_type": "stream",
     "text": [
      "['Berlin', 'Buenos Aires', 'Madrid', 'Miami', 'Doha', 'Tokyo', 'Berlin', 'New York', 'Berlin', 'Paris']\n"
     ]
    }
   ],
   "source": [
    "paris = \"Paris\"\n",
    "\n",
    "if paris in ciudades:\n",
    "    ciudades.remove(\"Paris\")\n",
    "\n",
    "if paris in ciudades:\n",
    "    print(\"La ciudad Paris se encuentra en la lista de ciudades en el indice \" + str(ciudades.index(\"Paris\")))\n",
    "else:\n",
    "    ciudades.append(\"Paris\")\n",
    "    \n",
    "print(ciudades)\n",
    "    "
   ]
  },
  {
   "attachments": {},
   "cell_type": "markdown",
   "metadata": {},
   "source": [
    "20) Mostrar la cantidad de veces que se encuentra un elemento específico dentro de la tupla y de la lista"
   ]
  },
  {
   "cell_type": "code",
   "execution_count": 53,
   "metadata": {},
   "outputs": [
    {
     "name": "stdout",
     "output_type": "stream",
     "text": [
      "Paris se encuentra repetida 13 veces.\n",
      "['Berlin', 'Buenos Aires', 'Madrid', 'Miami', 'Doha', 'Tokyo', 'Berlin', 'New York', 'Berlin', 'Paris', 'Paris', 'Paris', 'Paris', 'Paris', 'Paris', 'Paris', 'Paris', 'Paris', 'Paris', 'Paris', 'Paris', 'Paris']\n"
     ]
    }
   ],
   "source": [
    "cont = 0\n",
    "ciudades.append(\"Paris\")\n",
    "ciudades.append(\"Paris\")\n",
    "ciudades.append(\"Paris\")\n",
    "\n",
    "for ciudad in ciudades:\n",
    "    if ciudad == \"Paris\":\n",
    "        cont += 1\n",
    "\n",
    "print(\"Paris se encuentra repetida \" + str(cont) + \" veces.\")\n",
    "\n",
    "print(ciudades)"
   ]
  },
  {
   "attachments": {},
   "cell_type": "markdown",
   "metadata": {},
   "source": [
    "21) Convertir la tupla en una lista"
   ]
  },
  {
   "cell_type": "code",
   "execution_count": 63,
   "metadata": {},
   "outputs": [
    {
     "name": "stdout",
     "output_type": "stream",
     "text": [
      "[1, 2, 3, 4, 5, 6, 7, 8, 9, 10, 11, 12, 13, 14, 15, 16, 17, 18, 19, 20]\n",
      "<class 'list'>\n"
     ]
    }
   ],
   "source": [
    "print(tupla)\n",
    "tupla = list(tupla)\n",
    "print(type(tupla))"
   ]
  },
  {
   "attachments": {},
   "cell_type": "markdown",
   "metadata": {},
   "source": [
    "22) Desempaquetar solo los primeros 3 elementos de la tupla en 3 variables"
   ]
  },
  {
   "cell_type": "code",
   "execution_count": 64,
   "metadata": {},
   "outputs": [
    {
     "name": "stdout",
     "output_type": "stream",
     "text": [
      "1 2 3\n"
     ]
    }
   ],
   "source": [
    "x = tupla[0]\n",
    "y = tupla[1]\n",
    "z = tupla[2]\n",
    "\n",
    "print(x,y,z)\n",
    "\n",
    "    "
   ]
  },
  {
   "attachments": {},
   "cell_type": "markdown",
   "metadata": {},
   "source": [
    "23) Crear un diccionario utilizando la lista crada en el punto 1, asignandole la clave \"ciudad\". Agregar tambien otras claves, como puede ser \"Pais\" y \"Continente\"."
   ]
  },
  {
   "cell_type": "code",
   "execution_count": 77,
   "metadata": {},
   "outputs": [
    {
     "name": "stdout",
     "output_type": "stream",
     "text": [
      "<class 'dict'>\n",
      "{'ciudad': ['Berlin', 'Buenos Aires', 'Madrid', 'Miami', 'Doha', 'Tokyo', 'Berlin', 'New York', 'Berlin', 'Paris', 'Paris', 'Paris', 'Paris', 'Paris', 'Paris', 'Paris', 'Paris', 'Paris', 'Paris', 'Paris', 'Paris', 'Paris'], 'pais': ['Brazil', 'Argentina', 'Alemania'], 'continent': ['America del sur', 'Europa']}\n"
     ]
    }
   ],
   "source": [
    "dicc = {\"ciudad\":ciudades,\"pais\":[\"Brazil\",\"Argentina\",\"Alemania\"],\"continent\":[\"America del sur\",\"Europa\"]}\n",
    "print(type(dicc))\n",
    "print(dicc)\n",
    "\n",
    "\n",
    "    \n"
   ]
  },
  {
   "attachments": {},
   "cell_type": "markdown",
   "metadata": {},
   "source": [
    "24) Imprimir las claves del diccionario"
   ]
  },
  {
   "cell_type": "code",
   "execution_count": 79,
   "metadata": {},
   "outputs": [
    {
     "name": "stdout",
     "output_type": "stream",
     "text": [
      "dict_keys(['ciudad', 'pais', 'continent'])\n"
     ]
    }
   ],
   "source": [
    "print(dicc.keys())"
   ]
  },
  {
   "attachments": {},
   "cell_type": "markdown",
   "metadata": {},
   "source": [
    "25) Imprimir las ciudades a través de su clave"
   ]
  },
  {
   "cell_type": "code",
   "execution_count": 81,
   "metadata": {},
   "outputs": [
    {
     "name": "stdout",
     "output_type": "stream",
     "text": [
      "['Berlin', 'Buenos Aires', 'Madrid', 'Miami', 'Doha', 'Tokyo', 'Berlin', 'New York', 'Berlin', 'Paris', 'Paris', 'Paris', 'Paris', 'Paris', 'Paris', 'Paris', 'Paris', 'Paris', 'Paris', 'Paris', 'Paris', 'Paris']\n"
     ]
    }
   ],
   "source": [
    "print(dicc.get(\"ciudad\"))"
   ]
  }
 ],
 "metadata": {
  "interpreter": {
   "hash": "c85384e4cb51c8b72350f3a8712cc8351fdc3955e32a27f9b60c6242ab125f01"
  },
  "kernelspec": {
   "display_name": "Python 3 (ipykernel)",
   "language": "python",
   "name": "python3"
  },
  "language_info": {
   "codemirror_mode": {
    "name": "ipython",
    "version": 3
   },
   "file_extension": ".py",
   "mimetype": "text/x-python",
   "name": "python",
   "nbconvert_exporter": "python",
   "pygments_lexer": "ipython3",
   "version": "3.11.5"
  }
 },
 "nbformat": 4,
 "nbformat_minor": 4
}
